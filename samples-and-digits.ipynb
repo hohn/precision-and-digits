{
 "cells": [
  {
   "cell_type": "markdown",
   "id": "0bf5883f-072f-41a2-b603-ec7b55392d3f",
   "metadata": {},
   "source": [
    "### Number of samples and accuracy"
   ]
  },
  {
   "cell_type": "code",
   "execution_count": 1,
   "id": "c7a11a68-6350-4645-994a-7ec078e5c54b",
   "metadata": {},
   "outputs": [],
   "source": [
    "num_samples = 10\n"
   ]
  },
  {
   "cell_type": "code",
   "execution_count": 2,
   "id": "18e7c042-3a0e-4eec-b70c-7f43ffe37de1",
   "metadata": {},
   "outputs": [],
   "source": [
    "good_results = 5\n"
   ]
  },
  {
   "cell_type": "code",
   "execution_count": 3,
   "id": "b8c8084a-7308-4537-93f7-25d1d791e83a",
   "metadata": {},
   "outputs": [
    {
     "data": {
      "text/plain": [
       "50.0"
      ]
     },
     "execution_count": 3,
     "metadata": {},
     "output_type": "execute_result"
    }
   ],
   "source": [
    "# success_ratio \n",
    "good_results/num_samples * 100\n"
   ]
  },
  {
   "cell_type": "markdown",
   "id": "d53b7f74-c07d-4380-8f48-9c3ec88adce9",
   "metadata": {},
   "source": [
    "Looks like 50% are good, but is this true?  How many digits of accuracy do we really have?"
   ]
  },
  {
   "cell_type": "code",
   "execution_count": 4,
   "id": "6b559632-65e7-4de6-889e-b5620a8fe10f",
   "metadata": {},
   "outputs": [],
   "source": [
    "delta = 1"
   ]
  },
  {
   "cell_type": "code",
   "execution_count": 5,
   "id": "9dd20625-0636-4b69-835f-f415cb5ba45d",
   "metadata": {},
   "outputs": [
    {
     "data": {
      "text/plain": [
       "60.0"
      ]
     },
     "execution_count": 5,
     "metadata": {},
     "output_type": "execute_result"
    }
   ],
   "source": [
    "(good_results + delta)/num_samples * 100"
   ]
  },
  {
   "cell_type": "markdown",
   "id": "aa7daf0f-1955-475e-821f-38c57a362b88",
   "metadata": {},
   "source": [
    "That's not good.  We lost all digits with a tiny change. Our sample size is too small.  Let's see what happens with 100 samples."
   ]
  },
  {
   "cell_type": "code",
   "execution_count": 6,
   "id": "26b28982-1e95-4df2-921a-eadf3f4fbf4a",
   "metadata": {},
   "outputs": [
    {
     "data": {
      "text/plain": [
       "50.0"
      ]
     },
     "execution_count": 6,
     "metadata": {},
     "output_type": "execute_result"
    }
   ],
   "source": [
    "50/100 * 100"
   ]
  },
  {
   "cell_type": "code",
   "execution_count": 7,
   "id": "92ed4327-fc5f-4fe8-8bea-767a02569223",
   "metadata": {},
   "outputs": [
    {
     "data": {
      "text/plain": [
       "51.0"
      ]
     },
     "execution_count": 7,
     "metadata": {},
     "output_type": "execute_result"
    }
   ],
   "source": [
    "(50 + delta)/100 * 100"
   ]
  },
  {
   "cell_type": "markdown",
   "id": "51f898d8-b254-461b-a9de-2fd3c9104fb9",
   "metadata": {},
   "source": [
    "Better.  One extra sample only changes our result in the second digit.\n",
    "\n",
    "Let's see how many digits we have.  The smallest change we can make to `num_samples` is 1.  For 10 samples, the smallest normalized change is from (1/10) to (2/10), or (1/10). \n",
    "In scientific notation, that's just 1e-1.\n",
    "\n",
    "For 100 samples, it's 1e-2.  And so on.\n",
    "\n",
    "Note what happens when we take the negated log base 10 of that:\n"
   ]
  },
  {
   "cell_type": "code",
   "execution_count": 8,
   "id": "7aa52395-d766-4dc7-9d3a-85ab12cb49c7",
   "metadata": {},
   "outputs": [
    {
     "name": "stdout",
     "output_type": "stream",
     "text": [
      "samples: 10\n"
     ]
    },
    {
     "data": {
      "text/plain": [
       "1.0"
      ]
     },
     "execution_count": 8,
     "metadata": {},
     "output_type": "execute_result"
    }
   ],
   "source": [
    "from math import *\n",
    "print(\"samples: {:d}\".format(num_samples))\n",
    "- log10(1/(num_samples))\n",
    "\n"
   ]
  },
  {
   "cell_type": "markdown",
   "id": "41cf90ca-d581-47a9-afab-d72a9da8d320",
   "metadata": {},
   "source": [
    "And with 100 samples:"
   ]
  },
  {
   "cell_type": "code",
   "execution_count": 9,
   "id": "c9488a75-06fe-4c8d-a80a-f14f07ffddc8",
   "metadata": {},
   "outputs": [
    {
     "name": "stdout",
     "output_type": "stream",
     "text": [
      "samples: 100\n"
     ]
    },
    {
     "data": {
      "text/plain": [
       "2.0"
      ]
     },
     "execution_count": 9,
     "metadata": {},
     "output_type": "execute_result"
    }
   ],
   "source": [
    "print(\"samples: {:d}\".format(100))\n",
    "- log10(1/(100))"
   ]
  },
  {
   "cell_type": "markdown",
   "id": "b610c142-93c3-4609-bfff-6f3e56d832f6",
   "metadata": {},
   "source": [
    "And 1000 samples:"
   ]
  },
  {
   "cell_type": "code",
   "execution_count": 10,
   "id": "26b41376-a9ba-4de3-87a8-c3f16547443e",
   "metadata": {},
   "outputs": [
    {
     "name": "stdout",
     "output_type": "stream",
     "text": [
      "samples: 1000\n"
     ]
    },
    {
     "data": {
      "text/plain": [
       "3.0"
      ]
     },
     "execution_count": 10,
     "metadata": {},
     "output_type": "execute_result"
    }
   ],
   "source": [
    "print(\"samples: {:d}\".format(1000))\n",
    "- log10(1/(1000))"
   ]
  },
  {
   "cell_type": "markdown",
   "id": "bd0f0150-bbf6-4933-8e60-05442716169a",
   "metadata": {},
   "source": [
    "By looking at the normalized smallest possible delta -- one sample -- we get the digit precision of our experiment."
   ]
  },
  {
   "cell_type": "code",
   "execution_count": 11,
   "id": "4ba2e582-3b92-4317-85c1-ae1778f6182d",
   "metadata": {},
   "outputs": [
    {
     "name": "stdout",
     "output_type": "stream",
     "text": [
      "5.100000e+01\n"
     ]
    }
   ],
   "source": [
    "print(\"{:e}\".format((50 + 1)/100 * 100))"
   ]
  },
  {
   "cell_type": "code",
   "execution_count": 12,
   "id": "b1710fdb-5a80-4205-a707-1c321d219f57",
   "metadata": {},
   "outputs": [
    {
     "name": "stdout",
     "output_type": "stream",
     "text": [
      "5.000000e+01\n"
     ]
    }
   ],
   "source": [
    "print(\"{:e}\".format((50 + 0)/100 * 100))"
   ]
  },
  {
   "cell_type": "markdown",
   "id": "56e2d8db-17e0-45b3-b8b7-1dc7b07f773b",
   "metadata": {},
   "source": [
    "The `-log10` estimate for 100 samples was 2 digits, and here we have a single-digit change in the least significant digit -- the second.  Good so far.\n",
    "\n",
    "Trying this with 1000 samples:"
   ]
  },
  {
   "cell_type": "code",
   "execution_count": 13,
   "id": "a745dabb-99be-4365-a7e3-0a0292e2a7a2",
   "metadata": {},
   "outputs": [
    {
     "name": "stdout",
     "output_type": "stream",
     "text": [
      "5.010000e+02 5.000000e+02\n"
     ]
    }
   ],
   "source": [
    "print(\"{:e} {:e}\".format((500 + 1)/1000 * 1000, 500))"
   ]
  },
  {
   "cell_type": "markdown",
   "id": "45afa8c6-daa0-45c1-800c-ee0ce352ae8a",
   "metadata": {},
   "source": [
    "We can try a formula for digits"
   ]
  },
  {
   "cell_type": "code",
   "execution_count": 14,
   "id": "63360ebb-7cd7-416b-9e83-b14bb5264caa",
   "metadata": {},
   "outputs": [],
   "source": [
    "def accd(samples):\n",
    "    return -log10(1/samples)\n",
    "    "
   ]
  },
  {
   "cell_type": "code",
   "execution_count": 15,
   "id": "c605c7fd-bbc2-47c0-b908-923abdbb824c",
   "metadata": {},
   "outputs": [
    {
     "data": {
      "text/plain": [
       "2.0"
      ]
     },
     "execution_count": 15,
     "metadata": {},
     "output_type": "execute_result"
    }
   ],
   "source": [
    "accd(100)"
   ]
  },
  {
   "cell_type": "code",
   "execution_count": 16,
   "id": "95954e49-561c-4d47-b25f-7993760254db",
   "metadata": {},
   "outputs": [
    {
     "data": {
      "text/plain": [
       "3.0"
      ]
     },
     "execution_count": 16,
     "metadata": {},
     "output_type": "execute_result"
    }
   ],
   "source": [
    "accd(1000)"
   ]
  },
  {
   "cell_type": "markdown",
   "id": "f172c45c-766d-43ac-ade6-2281ee2ed3a4",
   "metadata": {},
   "source": [
    "### Condition number"
   ]
  },
  {
   "cell_type": "markdown",
   "id": "afff431c-73e3-46ae-b53d-86e34a0eae3d",
   "metadata": {},
   "source": [
    "Maybe digits aren't quite the right measure.  Sensitivity to change may be more appropriate.\n",
    "\n",
    "Using the condition number $\\kappa$ may give a better idea.\n",
    "\n",
    "$$\\kappa = {\\delta_{\\mathrm{out}} \\over \\delta_{\\mathrm{in}}} $$\n",
    "\n",
    "We would have to define our functions more precisely to make use of the common definition found at\n",
    "https://en.wikipedia.org/wiki/Condition_number\n",
    "\n",
    "Indstead, we will just use the tradidional *problem* condition number, the ratio above"
   ]
  },
  {
   "cell_type": "markdown",
   "id": "f98e2779-9288-432f-8cdc-9cec79b7cfa8",
   "metadata": {},
   "source": [
    "In the following, we look at $\\kappa$ via values, then formula, then loop.  \n",
    "Note that our output is a percentage so we multiply by 100"
   ]
  },
  {
   "cell_type": "code",
   "execution_count": 34,
   "id": "42ae5d04-7582-4749-a908-6f384e21c6fd",
   "metadata": {},
   "outputs": [
    {
     "data": {
      "text/plain": [
       "9.999999999999998"
      ]
     },
     "execution_count": 34,
     "metadata": {},
     "output_type": "execute_result"
    }
   ],
   "source": [
    "deli = 1; delo = ((5+deli)/10 - (5/10))*100\n",
    "delo/deli"
   ]
  },
  {
   "cell_type": "code",
   "execution_count": 35,
   "id": "1a44fbf2-9184-43b4-b12b-c5cf17ad03f7",
   "metadata": {},
   "outputs": [
    {
     "data": {
      "text/plain": [
       "0.10000000000000009"
      ]
     },
     "execution_count": 35,
     "metadata": {},
     "output_type": "execute_result"
    }
   ],
   "source": [
    "deli = 1; n = 500; N = 2*n; \n",
    "delo = ((n+deli)/N - (n/N))*100\n",
    "delo/deli"
   ]
  },
  {
   "cell_type": "code",
   "execution_count": 42,
   "id": "3c9173ee-5eb3-42e7-a64f-c6801195be83",
   "metadata": {},
   "outputs": [
    {
     "name": "stdout",
     "output_type": "stream",
     "text": [
      "With     10 samples, condition number is 1.000000e+01\n",
      "With    100 samples, condition number is 1.000000e+00\n",
      "With   1000 samples, condition number is 1.000000e-01\n",
      "With  10000 samples, condition number is 1.000000e-02\n"
     ]
    }
   ],
   "source": [
    "for ex in range(0, 4):\n",
    "    deli = 1; n = 5*10**ex; N = 2*n; \n",
    "    delo = ((n+deli)/N - (n/N))*100\n",
    "    print(\"With {:6d} samples, condition number is {:e}\".format(N, delo/deli))\n",
    "    "
   ]
  },
  {
   "cell_type": "markdown",
   "id": "4544dd0e-b775-4fd3-97f8-1c5e8a8d605f",
   "metadata": {},
   "source": [
    "We can see that the sensitivity to single result changes decreases markedly as our sample size grows.  No surprise, but this also shows that percentages for sample sizes less than 10 are *misleading* and basically *useless*.\n",
    "\n",
    "Just use the raw number ratios in those cases, i.e. 5/10, **not** 50%."
   ]
  }
 ],
 "metadata": {
  "kernelspec": {
   "display_name": "Python 3 (ipykernel)",
   "language": "python",
   "name": "python3"
  },
  "language_info": {
   "codemirror_mode": {
    "name": "ipython",
    "version": 3
   },
   "file_extension": ".py",
   "mimetype": "text/x-python",
   "name": "python",
   "nbconvert_exporter": "python",
   "pygments_lexer": "ipython3",
   "version": "3.11.8"
  }
 },
 "nbformat": 4,
 "nbformat_minor": 5
}
